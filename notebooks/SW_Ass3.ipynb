{
 "cells": [
  {
   "cell_type": "markdown",
   "metadata": {},
   "source": [
    "# The Social Web Assignment 3: Network Analysis\n",
    "\n",
    "- Instructors: Davide Ceolin, Emma Beauxis-Aussalet.\n",
    "- TAs: Zubaria Inayat, Maxim Sergeev, Zhuofan Mei, Alexander Schmatz, Ling Jin.\n",
    "- Exercises for Hands-on session 3 (original notebook design by Michael Accetto)\n",
    "\n",
    "Many interesting data on the Social Web is structured as a graph or network. This notebook will guide you through the use of the networkx library and the construction of a basic network object, made of nodes and edges. After it you will have learned how to measure basic network properties and how to analyse the structure of a network. \n",
    "\n",
    "1. Make sure you followed the instructions in the 'GettingStarted.pdf' guide.\n",
    "2. Activate your virtual environment\n",
    "3. Install the networkX as by running the following cell. We will also install matplotlib, needed to show the graph created with networkx."
   ]
  },
  {
   "cell_type": "code",
   "execution_count": null,
   "metadata": {},
   "outputs": [],
   "source": [
    "!pip install networkx\n",
    "!pip install matplotlib"
   ]
  },
  {
   "cell_type": "markdown",
   "metadata": {},
   "source": [
    "## Background\n",
    "Classic social network analysis studies a network's structure. In a social network, a person is considered a *node* or *vertex*, and a relationship between people is a *link* or *edge*. \n",
    "Many network statistics can yield insights on the underlying social structure. At the same time, their intuitive visual representation aids in developing working hypothesis explaining their dynamics.\n",
    "\n",
    "Statistics can quantify the importance of a social agent and how different communities cluster together.\n",
    "Others can uncover the routes through which information spreads, as well as the origin of a specific disease or rumor in a group.  \n",
    "\n",
    "Let's import all the packages needed for the notebook (note: this should run without output):"
   ]
  },
  {
   "cell_type": "code",
   "execution_count": 3,
   "metadata": {},
   "outputs": [],
   "source": [
    "import networkx as nx\n",
    "from matplotlib import pyplot as plt\n",
    "import pickle"
   ]
  },
  {
   "cell_type": "markdown",
   "metadata": {},
   "source": [
    "## Making a graph\n",
    "In this part, a few simple exemples will be presented to get familiar with the python constructs used throughout the notebook(s).\n",
    "\n",
    "We will start here by making a graph. Here we use the basic Graph Object to instantiate our graph: `G`. "
   ]
  },
  {
   "cell_type": "code",
   "execution_count": 4,
   "metadata": {},
   "outputs": [],
   "source": [
    "G = nx.Graph()"
   ]
  },
  {
   "cell_type": "markdown",
   "metadata": {},
   "source": [
    "Let's add nodes. We can use `add_node` for a one-off node addition. \\\n",
    "We can also add nodes in bulk with the `add_nodes_from` method, which takes an iterable (e.g. list, tuple, list of dictionaries) as main argument.  "
   ]
  },
  {
   "cell_type": "code",
   "execution_count": 5,
   "metadata": {},
   "outputs": [],
   "source": [
    "# Add one node:\n",
    "G.add_node(1)\n",
    "# Add multiple nodes 2, 3, 4, .. 8:\n",
    "G.add_nodes_from([i for i in range(2, 9)])"
   ]
  },
  {
   "cell_type": "markdown",
   "metadata": {},
   "source": [
    "Coding Tip: *If you are not familiar with list comprehensions, such as the following:*   `list = [i for i in range(10)]`\n",
    "\n",
    "*Please check out this page: https://runestone.academy/runestone/books/published/thinkcspy/Lists/ListComprehensions.html*"
   ]
  },
  {
   "cell_type": "code",
   "execution_count": null,
   "metadata": {},
   "outputs": [],
   "source": [
    "# Visualize all graph nodes:\n",
    "G.nodes()"
   ]
  },
  {
   "cell_type": "markdown",
   "metadata": {},
   "source": [
    "Attributes can be useful for storing data of interest to our research. We will will provide some dummy \"score\" data  for the moment, just for demonstration purposes. \\\n",
    "Later, we will retrieve real data from external sources."
   ]
  },
  {
   "cell_type": "code",
   "execution_count": null,
   "metadata": {},
   "outputs": [],
   "source": [
    "n = 9\n",
    "\n",
    "node_info = {'ID': 'user_' + str(9), 'score': 80}\n",
    "\n",
    "G.add_node(9, **node_info)\n",
    "# nx.set_node_attributes(G, name='ID', values='user_9')\n",
    "G.nodes(data=True)"
   ]
  },
  {
   "cell_type": "code",
   "execution_count": null,
   "metadata": {},
   "outputs": [],
   "source": [
    "from random import randrange\n",
    "# create 5 more users, giving them corresponding IDs and random scores.\n",
    "# this will be used in the following cell to insert information in the graph.\n",
    "nodes_with_attributes = [(i, {'ID': 'user_' + str(i), 'score': randrange(40, 100)}) for i in range(10, 15)]\n",
    "\n",
    "print(nodes_with_attributes)\n",
    "\n",
    "print('\\nThis dictionary will provide the following information to the graph:\\n')\n",
    "for node_and_attributes in nodes_with_attributes:\n",
    "    print(f'node: {node_and_attributes[0]}')\n",
    "    \n",
    "    for key, value in node_and_attributes[1].items():\n",
    "        print(f'\\t{key}:\\t{value}')"
   ]
  },
  {
   "cell_type": "code",
   "execution_count": 9,
   "metadata": {},
   "outputs": [],
   "source": [
    "# add the nodes and attributes:\n",
    "G.add_nodes_from(nodes_with_attributes)"
   ]
  },
  {
   "cell_type": "code",
   "execution_count": null,
   "metadata": {},
   "outputs": [],
   "source": [
    "G.nodes() # show only nodes"
   ]
  },
  {
   "cell_type": "code",
   "execution_count": null,
   "metadata": {},
   "outputs": [],
   "source": [
    "G.nodes(data=True) # show everything "
   ]
  },
  {
   "cell_type": "code",
   "execution_count": null,
   "metadata": {},
   "outputs": [],
   "source": [
    "for k, v in dict(G.nodes(data=True)).items(): # show everything in a more readable way by iterating through the graph nodes\n",
    "    print(k, v)"
   ]
  },
  {
   "cell_type": "markdown",
   "metadata": {},
   "source": [
    "You can add additional information to existing nodes with the nx.set_node_attributen() function:"
   ]
  },
  {
   "cell_type": "code",
   "execution_count": null,
   "metadata": {},
   "outputs": [],
   "source": [
    "new_attribute = {8:{'ID': 'user_8', 'score': 90}}\n",
    "nx.set_node_attributes(G, new_attribute)\n",
    "for k, v in dict(G.nodes(data=True)).items():\n",
    "    print(k, v)"
   ]
  },
  {
   "cell_type": "markdown",
   "metadata": {
    "tags": []
   },
   "source": [
    "### Task 1.a\n",
    "There still seems to be missing information for some of the nodes in `G`. \\\n",
    "\n",
    "* add those attributes to the incomplete nodes.\n",
    "* Add a third attribute of your own choice containing a value of type `string`, `integer` or `float`. \\\n",
    "   Some ideas could be: `favourite_pet`, `number_of_cakes_eaten_on_a_single_day`, or `probability_of_survival`\n",
    "* At the end, show the complete set of nodes along with their attributes, fetching directly from the graph."
   ]
  },
  {
   "cell_type": "code",
   "execution_count": 59,
   "metadata": {},
   "outputs": [],
   "source": [
    "#Your Code Here"
   ]
  },
  {
   "cell_type": "markdown",
   "metadata": {},
   "source": [
    "## adding edges"
   ]
  },
  {
   "cell_type": "markdown",
   "metadata": {},
   "source": [
    "The same thing can be done with edges, establishing new relations between vertices (synonym of nodes) in your graph."
   ]
  },
  {
   "cell_type": "code",
   "execution_count": 15,
   "metadata": {},
   "outputs": [],
   "source": [
    "G.add_edge(1, 5)"
   ]
  },
  {
   "cell_type": "markdown",
   "metadata": {},
   "source": [
    "To visualize the graph, we can call the nx.draw_networkx function."
   ]
  },
  {
   "cell_type": "code",
   "execution_count": null,
   "metadata": {},
   "outputs": [],
   "source": [
    "nx.draw_networkx(G)"
   ]
  },
  {
   "cell_type": "markdown",
   "metadata": {},
   "source": [
    "You can extract graph information like the number of nodes and edges."
   ]
  },
  {
   "cell_type": "code",
   "execution_count": null,
   "metadata": {},
   "outputs": [],
   "source": [
    "print(f'There are {G.number_of_nodes()} node(s) with {G.number_of_edges()} edge(s) in this graph.')"
   ]
  },
  {
   "cell_type": "markdown",
   "metadata": {},
   "source": [
    "To add more than one edge at the time, we use the \"add_edges_from\" method. \\\n",
    "We provide an *edge list* or *adjacency list*, listing the pair of nodes that are connected."
   ]
  },
  {
   "cell_type": "code",
   "execution_count": 18,
   "metadata": {},
   "outputs": [],
   "source": [
    "# Define a connection from each node N to its neighbour N + 1.\n",
    "connections = [(n, n+1) for n in range(max(G.nodes()))] \n",
    "G.add_edges_from(connections)"
   ]
  },
  {
   "cell_type": "code",
   "execution_count": null,
   "metadata": {},
   "outputs": [],
   "source": [
    "G.edges()"
   ]
  },
  {
   "cell_type": "code",
   "execution_count": null,
   "metadata": {},
   "outputs": [],
   "source": [
    "nx.draw_networkx(G)"
   ]
  },
  {
   "cell_type": "markdown",
   "metadata": {},
   "source": [
    "### Task 1.b\n",
    "\n",
    "How many nodes and edges does the graph `G` now have?\n",
    "\n",
    "Make a function called `count_graph_elements` taking G as argument, that prints the number of edges and nodes for the provided graph."
   ]
  },
  {
   "cell_type": "code",
   "execution_count": 60,
   "metadata": {},
   "outputs": [],
   "source": [
    "#Your Code Here"
   ]
  },
  {
   "cell_type": "code",
   "execution_count": null,
   "metadata": {},
   "outputs": [],
   "source": [
    "count_graph_elements(G)"
   ]
  },
  {
   "cell_type": "markdown",
   "metadata": {},
   "source": [
    "To clear your graph, you can use:"
   ]
  },
  {
   "cell_type": "code",
   "execution_count": 23,
   "metadata": {},
   "outputs": [],
   "source": [
    "G.clear()"
   ]
  },
  {
   "cell_type": "markdown",
   "metadata": {},
   "source": [
    "We can verify whether the graph was freed of all its elements by calling `G.nodes()` and `G.edges()` again. \\\n",
    "Or we can call our previously defined function."
   ]
  },
  {
   "cell_type": "code",
   "execution_count": null,
   "metadata": {},
   "outputs": [],
   "source": [
    "count_graph_elements(G)"
   ]
  },
  {
   "cell_type": "markdown",
   "metadata": {},
   "source": [
    "### A Network of People\n",
    "We will start now by adding people to our network. "
   ]
  },
  {
   "cell_type": "code",
   "execution_count": 25,
   "metadata": {},
   "outputs": [],
   "source": [
    "G.add_edge('Toran', 'Bayta')"
   ]
  },
  {
   "cell_type": "code",
   "execution_count": null,
   "metadata": {},
   "outputs": [],
   "source": [
    "print(G.edges())\n",
    "print(G.nodes()) # nodes are added automatically when edges are added."
   ]
  },
  {
   "cell_type": "code",
   "execution_count": 27,
   "metadata": {},
   "outputs": [],
   "source": [
    "e = [('Milo', 'Yossarian'), ('Toran', 'Mis'), ('Toran', 'Jord')]\n",
    "G.add_edges_from(e)"
   ]
  },
  {
   "cell_type": "markdown",
   "metadata": {},
   "source": [
    "As you can see in the two cases above, nodes don't need to be explicitly defined. "
   ]
  },
  {
   "cell_type": "code",
   "execution_count": null,
   "metadata": {},
   "outputs": [],
   "source": [
    "G.edges()"
   ]
  },
  {
   "cell_type": "markdown",
   "metadata": {},
   "source": [
    "### Task 2\n",
    "Add 10 edges with different people to the graph G. To do so, you can user `add_edges_from`, and provide an iterable as shown above. (an iterable is anything that can be 'looped over', in this case you likely want to use a list of tuples as shown above).\n",
    "\n",
    "The groups of people to add are: \n",
    " - group 1:\n",
    "     - Toran\n",
    "     - Mis\n",
    "     - Hardin\n",
    "     - Mallow\n",
    "     - Hari\n",
    "     - Jord\n",
    "     - Lathan\n",
    " - group 2:\n",
    "     - Milo\n",
    "     - Yossarian\n",
    "     - Orr\n",
    "     - Nately\n",
    "     - Dobbs\n",
    "     - Duckett\n",
    "     \n",
    "Make sure that people in the first group are not connected to the second group. Also make sure that each person in one group is connected to at least one other person within the same group."
   ]
  },
  {
   "cell_type": "code",
   "execution_count": 29,
   "metadata": {},
   "outputs": [],
   "source": [
    "# Your code here:"
   ]
  },
  {
   "cell_type": "code",
   "execution_count": 61,
   "metadata": {},
   "outputs": [],
   "source": [
    "#Adding the nodes to the graph\n",
    "#Your Code Here"
   ]
  },
  {
   "cell_type": "code",
   "execution_count": null,
   "metadata": {},
   "outputs": [],
   "source": [
    "G.edges()"
   ]
  },
  {
   "cell_type": "markdown",
   "metadata": {},
   "source": [
    "Let's visualize the state of the graph:"
   ]
  },
  {
   "cell_type": "code",
   "execution_count": null,
   "metadata": {},
   "outputs": [],
   "source": [
    "nx.draw_networkx(G)\n",
    "\n",
    "\n"
   ]
  },
  {
   "cell_type": "markdown",
   "metadata": {},
   "source": [
    "##### Bonus\n",
    "Rerun `nx.draw_networkx(G)`. \\\n",
    "What do you notice?\n",
    "What happens if you run the following code multiple times?\\\n",
    "`pos = nx.spring_layout(G, seed=42)` \\\n",
    "`nx.draw_networkx(G, pos)` \\\n",
    "What does spring_layout do?"
   ]
  },
  {
   "cell_type": "markdown",
   "metadata": {},
   "source": [
    "### Edge attributes\n",
    "Edges can also have attributes. One important attribute is 'weight', we can add weight to the graphs with the same syntax we used to add a normal edge.\n",
    "\n",
    "We can add a weight to an edge by providing the argument `weight` to the function `add_edge`:"
   ]
  },
  {
   "cell_type": "code",
   "execution_count": 34,
   "metadata": {},
   "outputs": [],
   "source": [
    "G.add_edge('Milo', 'Hari', weight=0.1)"
   ]
  },
  {
   "cell_type": "markdown",
   "metadata": {},
   "source": [
    "More conveniently, we can use the `add_edges_from` method to add a collection of edges and attributes.\n",
    "Any attribute can be provided as a dictionary in a format such as:\n",
    "    \n",
    "    [\n",
    "     (edge_1a, edge_1b, {'attribute_name': 'value_1a}),\n",
    "     (edge_2a, edge_2b, {'attribute_name': 'value_2a}),\n",
    "     ...\n",
    "     (edge_Na, edge_Nb, {'attribute_name': 'value_Na})\n",
    "    ]"
   ]
  },
  {
   "cell_type": "code",
   "execution_count": 35,
   "metadata": {},
   "outputs": [],
   "source": [
    "from random import random\n",
    "# for now, we add random weights normalized in range [0.3, 1.0]\n",
    "weighted_edges = [(p1, p2, {'weight': round((random() + .5) / 1.8, 1)}) for w, (p1, p2) in enumerate(G.edges())]\n",
    "G.add_edges_from(weighted_edges)"
   ]
  },
  {
   "cell_type": "code",
   "execution_count": null,
   "metadata": {},
   "outputs": [],
   "source": [
    "G.edges(data=True) # by using data=True, we can visualize edge attributes."
   ]
  },
  {
   "cell_type": "code",
   "execution_count": null,
   "metadata": {},
   "outputs": [],
   "source": [
    "nx.draw_networkx(G)"
   ]
  },
  {
   "cell_type": "markdown",
   "metadata": {},
   "source": [
    "### Visualizing the information\n",
    "In order to create more informative visualizations, there are slightly more advanced techniques.\n",
    "\n",
    "By iterating through the edges attributes, we can directly represent weights and other information in our graph."
   ]
  },
  {
   "cell_type": "code",
   "execution_count": 38,
   "metadata": {},
   "outputs": [],
   "source": [
    "# comprehension list: loop over edges, separating them in two subset (lower vs. greater or equal 0.5)\n",
    "edges_L = [(u, v) for (u, v, d) in G.edges(data=True) if d[\"weight\"] > 0.5]\n",
    "edges_S = [(u, v) for (u, v, d) in G.edges(data=True) if d[\"weight\"] <= 0.5]"
   ]
  },
  {
   "cell_type": "markdown",
   "metadata": {},
   "source": [
    "Here we will use one layout to plot vertices and edges separately.\n",
    "\n",
    "The layout function `spring_layout` returns positions for each node present in the network. \n",
    "\n",
    "In this way we will be able to plot different components of the network separately, providing more control on various characteristics we may want to represent.\n",
    "\n"
   ]
  },
  {
   "cell_type": "code",
   "execution_count": null,
   "metadata": {},
   "outputs": [],
   "source": [
    "\n",
    "pos = nx.spring_layout(G) # obtain edges pos(ition)\n",
    "print('Graph nodes coordinates')\n",
    "print(pos)"
   ]
  },
  {
   "cell_type": "code",
   "execution_count": null,
   "metadata": {},
   "outputs": [],
   "source": [
    "# Drawing the graph in the traditional way only provides connectivity topology:\n",
    "nx.draw(G, pos) #notice the different function \"draw\" instead of \"draw_networkx\""
   ]
  },
  {
   "cell_type": "code",
   "execution_count": null,
   "metadata": {},
   "outputs": [],
   "source": [
    "#You can also only draw the nodes\n",
    "nx.draw_networkx_nodes(G, pos, node_size=200)"
   ]
  },
  {
   "cell_type": "markdown",
   "metadata": {},
   "source": [
    "Now we are drawing a graph where the edges indicate the weight of the connection."
   ]
  },
  {
   "cell_type": "code",
   "execution_count": null,
   "metadata": {},
   "outputs": [],
   "source": [
    "\n",
    "nx.draw_networkx_nodes(G, pos, node_size=200)\n",
    "nx.draw_networkx_edges(G, pos, edgelist=edges_L, width=4)\n",
    "nx.draw_networkx_edges(\n",
    "    G, pos, edgelist=edges_S, width=2, edge_color=\"b\", style=\"dashed\"\n",
    ")\n",
    "plt.show()"
   ]
  },
  {
   "cell_type": "markdown",
   "metadata": {},
   "source": [
    "Lets plot everything together.\n",
    "Make sure that everything is readable by playing around with the parameters."
   ]
  },
  {
   "cell_type": "code",
   "execution_count": null,
   "metadata": {},
   "outputs": [],
   "source": [
    "\n",
    "\n",
    "# instantiate pyplot axis to plot everything (internally used by all the `nx.draw...` functions)\n",
    "fig, ax = plt.subplots(figsize=(7, 7))\n",
    "\n",
    "nx.draw_networkx_nodes(G, pos, node_size=200, node_color='red')\n",
    "nx.draw_networkx_edges(G, pos, edgelist=edges_L, width=4, edge_color='grey')\n",
    "nx.draw_networkx_edges(\n",
    "    G, pos, edgelist=edges_S, width=2, edge_color=\"b\", style=\"dashed\"\n",
    ")\n",
    "label_offset = 0.09 # we insert the label for each node slightly above it.\n",
    "nx.draw_networkx_labels(G, {k: (u, v + label_offset) for k, (u, v) in pos.items()}) # dictionary comprehension expression\n",
    "\n",
    "## centre plot, leave margin around the graph\n",
    "\n",
    "\n",
    "xs = [p[0] for p in pos.values()] # extract all x...\n",
    "ys = [p[1] for p in pos.values()] # ...and y values from edges positions\n",
    "\n",
    "margin = 0.3\n",
    "ax.set_xlim((min(xs) - margin, max(xs) + margin))\n",
    "ax.set_ylim((min(ys) - margin, max(ys) + margin))\n",
    "plt.show()\n"
   ]
  },
  {
   "cell_type": "markdown",
   "metadata": {},
   "source": [
    "### Task 3\n",
    "Can you make a function plotting a given graph, exhibiting line thickness *proportional to the weight* attribute of each edge?\n",
    "\n",
    "To do so you will need to:\n",
    "\n",
    "0. Take G, label_offset, plot_margin and show_edge_attributes as arguments of your function\n",
    "1. Instantiate pyplot figure and axis with `plt.subplots()`\n",
    "3. obtain nodes position via `nx.spring_layout(G)`\n",
    "3. Show nodes with `nx.draw_networkx_nodes(G, pos, node_size=..., node_color=...)`\n",
    "4. Show edges by:\n",
    "     1. getting all (scaled) weights by: `[d['weight']*scaling_factor for (u, v, d) in G.edges(data=True)]` \\\n",
    "        where scaling_factor is an arbitrarily chosen integer to make the difference in weights visible.\n",
    "     2. call the function below: \n",
    "             nx.draw_networkx_edges(G, pos, edgelist=G.edges(), width=weights, edge_color=...)\n",
    "         by providing the array `weights` as width argument.\n",
    "      \n",
    "      \n",
    "5. For each node, show its name above it, calling `draw_networkx_labels` with an offset to the y coordinate. \n",
    "6. add the option to display edge attributes with `nx.draw_networkx_edge_label`. \\\n",
    "    i. Make this dependent on an argument: (`if show_edge_attributes:`). \\\n",
    "    ii. create the adjacency list to show only the weight with:\n",
    "        edge_labels = {(u, v): d['weight'] for (u, v, d) in G.edges(data=True)} \\\n",
    "    iii. Then:\n",
    "        nx.draw_networkx_edge_labels(G, pos, edge_labels)\n",
    "7. increase graph margins by: \\\n",
    "    i. obtaining x and y coordinates for each item in `pos` \\\n",
    "    ii. set xlim and ylim accordingly\n",
    "\n",
    "Of the points here outlined, 6. is the only task not shown previously in this notebook. The workings of `nx.draw_networkx_edge_labels`, however, are similar to `draw_networkx_labels`. More information can be found [reading the docs](https://networkx.org/documentation/stable/reference/generated/networkx.drawing.nx_pylab.draw_networkx_edge_labels.html)."
   ]
  },
  {
   "cell_type": "code",
   "execution_count": 62,
   "metadata": {},
   "outputs": [],
   "source": [
    "def show_graph(G, label_offset=0.1, plot_margin=0.1, show_edge_attribute=True):\n",
    "    #Your Code Here\n",
    "    pass\n"
   ]
  },
  {
   "cell_type": "code",
   "execution_count": null,
   "metadata": {},
   "outputs": [],
   "source": [
    "show_graph(G)"
   ]
  },
  {
   "cell_type": "markdown",
   "metadata": {},
   "source": [
    "## Time for Data\n",
    "\n",
    "We will now show how to apply this graphing techniques to real world data, building a network to gain an understanding of the underlying social dynamics."
   ]
  },
  {
   "cell_type": "markdown",
   "metadata": {},
   "source": [
    "### Task 4\n",
    "1. Download [Stanford's example facebook network data](https://snap.stanford.edu/data/egonets-Facebook.html).\n",
    "2. Extract the archive file named `facebook.tar.gz`.  \n",
    "    * on Linux or Mac:\n",
    "        1. `Ctrl+Alt+T`;\n",
    "        2.  `tar -xvzf /path/to/file.tar.gz`.\n",
    "      \n",
    "    * on Windows (just use [7zip](https://www.7-zip.org/)).\n",
    "2. replace the variable filename with the relative or absolute path of the file named \"`0.edges`\". "
   ]
  },
  {
   "cell_type": "code",
   "execution_count": 63,
   "metadata": {},
   "outputs": [],
   "source": [
    "# Change to the correct path to the file\n",
    "edges_filename = 'facebook/0.edges'\n",
    "G_fb = nx.read_edgelist(edges_filename, nodetype=int)"
   ]
  },
  {
   "cell_type": "code",
   "execution_count": 64,
   "metadata": {},
   "outputs": [
    {
     "data": {
      "image/png": "[encoded data removed]",
      "text/plain": [
       "<Figure size 640x480 with 1 Axes>"
      ]
     },
     "metadata": {},
     "output_type": "display_data"
    }
   ],
   "source": [
    "nx.draw_networkx(G_fb)"
   ]
  },
  {
   "cell_type": "markdown",
   "metadata": {},
   "source": [
    "### Connectedness\n",
    "Is this graph connected? Why?"
   ]
  },
  {
   "cell_type": "code",
   "execution_count": 65,
   "metadata": {},
   "outputs": [
    {
     "name": "stdout",
     "output_type": "stream",
     "text": [
      "the graph is not connected\n",
      "because there are n 5 separate components.\n"
     ]
    }
   ],
   "source": [
    "# to answer the question above, we can use the functions provided by networkx:\n",
    "if nx.is_connected(G_fb):\n",
    "    print(\"the graph is connected\")\n",
    "    print(f'because there is only {nx.connected_components(G_fb)} ')\n",
    "else:\n",
    "    print(\"the graph is not connected\")\n",
    "    print(f'because there are n {len([c for c in nx.connected_components(G_fb)])} separate components.')"
   ]
  },
  {
   "cell_type": "markdown",
   "metadata": {},
   "source": [
    "There seem to be a few components disconnected to the whole.\n",
    "\n",
    "Let's extract the greatest component and define a stand-alone network from it."
   ]
  },
  {
   "cell_type": "code",
   "execution_count": 66,
   "metadata": {},
   "outputs": [
    {
     "data": {
      "image/png": "[encoded data removed]",
      "text/plain": [
       "<Figure size 640x480 with 1 Axes>"
      ]
     },
     "metadata": {},
     "output_type": "display_data"
    }
   ],
   "source": [
    "# return connected components\n",
    "components = nx.connected_components(G_fb)\n",
    "# find the largest, sorting by size (len)\n",
    "largest_comp = max(components, key=len)\n",
    "# obtain subgraph `sG` from `G_fb`\n",
    "sG = G_fb.subgraph(largest_comp)\n",
    "# quickly visualize\n",
    "nx.draw_networkx(sG)"
   ]
  },
  {
   "cell_type": "markdown",
   "metadata": {},
   "source": [
    "### Manipulating graph attributes: adding, saving, loading and visualizing attribute data\n",
    "\n",
    "Often you want to be able to associate a specific attribute to all the nodes or edges in your graph. Make sure you understand the example code below. Here, we use a random number generator to generate the values for an example `weight` attribute for all edges in our graph. We then use the pickle package to write down the resulting data structure, so we may quickly load it back from disk when needed later (or to use it in the notebook of your group members!). We then add the new weight attribute values to the edges of the graph and vizualize the result: \n"
   ]
  },
  {
   "cell_type": "code",
   "execution_count": 67,
   "metadata": {},
   "outputs": [],
   "source": [
    "# generate random weights for all edges:\n",
    "adj_d = {(u, v): {'weight': round((random() + .05)/1.05, 2)} for (u, v) in sG.edges()}\n",
    "\n",
    "# save to disk:\n",
    "with open('weights.pkl', 'wb') as f:\n",
    "    pickle.dump(adj_d, f)\n",
    "\n",
    "# load from disk \n",
    "with open('weights.pkl', 'rb') as f:\n",
    "    adjacency_dictionary_with_attributes = pickle.load(f)"
   ]
  },
  {
   "cell_type": "code",
   "execution_count": 68,
   "metadata": {},
   "outputs": [],
   "source": [
    "nx.set_edge_attributes(sG, values = adjacency_dictionary_with_attributes)"
   ]
  },
  {
   "cell_type": "code",
   "execution_count": 69,
   "metadata": {},
   "outputs": [],
   "source": [
    "show_graph(sG)"
   ]
  },
  {
   "cell_type": "markdown",
   "metadata": {},
   "source": [
    "## Measures of graph centrality / eccentricity\n",
    "\n",
    "### Degree & degree centrality\n",
    "\n",
    "The total number of edges of a node is known as its **degree**. A node with a realtive high degree can be seen as playing a more *central* role in the graph and is said to have a high **degree centrality**. \n",
    "\n",
    "For networks with directed edges, it is common to count incoming edges (indegree) and outgoing (outdegree) edges seperately. For example, on twitter, a node with a high indegree corresponds to an account with many followers, while a node with a high outdegree represents an account that follows many others. Note that directly interpreting these numbers as properties of the account owners in the real world maybe dangerous (e.g. \"Alice is more popular person than Bob because of her higher indegree\" or \"Bob has a high outdegree, typically someone who is afraid to be alone\")\n",
    "\n",
    "On facebook, the friend relation is not directed so we focus just on the degree metric in the examples below.\n",
    "\n",
    "To make it easy to use degrees in your data analysis, it is often handy to pre-compute the degrees and make the results an explicit attribute of each node. For example: "
   ]
  },
  {
   "cell_type": "code",
   "execution_count": 70,
   "metadata": {},
   "outputs": [],
   "source": [
    "# find the degree of each node\n",
    "degree_dict = dict(sG.degree(sG.nodes()))\n",
    "# add the attribute 'degree' to the respective node.\n",
    "nx.set_node_attributes(sG, degree_dict, 'degree')"
   ]
  },
  {
   "cell_type": "markdown",
   "metadata": {
    "tags": []
   },
   "source": [
    "### Task 5\n",
    "\n",
    "Can you create a variant of the above function `show_graph` named '`show_graph_node_degrees`'\n",
    "\n",
    "This time:\n",
    "\n",
    "1. Don't show node names\n",
    "2. Color-code each node by looking at its 'degree' attribute. \n",
    "Tips:\n",
    "\n",
    "1. You can obtain the 'degree' attribute for each node similarly to what was done before for 'weights' of each node. Namely, using a comprehension list while indexing the desired attribute, and then providing the resulting array to the `draw_networkx_nodes` function as 'node_color' argument. \n",
    "2. Make nodes smaller to be able to see all the nodes (even in the most crowded clusters)."
   ]
  },
  {
   "cell_type": "code",
   "execution_count": 71,
   "metadata": {},
   "outputs": [],
   "source": [
    "def show_graph_node_degrees(graph, label_offset=0.08, plot_margin=0.1, show_edge_attribute=True):\n",
    "    #Your Code Here\n",
    "    pass"
   ]
  },
  {
   "cell_type": "code",
   "execution_count": null,
   "metadata": {},
   "outputs": [],
   "source": [
    "show_graph_node_degrees(sG)"
   ]
  },
  {
   "cell_type": "markdown",
   "metadata": {},
   "source": [
    "### Centrality measures\n",
    "\n",
    "Degree centrality is not the only metric related to centrality. Another intuitively common intepretation of centrality is that a central node is relatively close to most other nodes in the network. **Closeness centrality**  of a node is (the reciprocal of) the average length of the shortest path between the node and all other nodes in the network. Note that central nodes have shorter paths, so to make sure that lower averages result in higher centrality, often the reciprocal of the average is used i.s.o. the average itself. \n",
    "\n",
    "Yet another notion of centrality, often used in social network analysis, is the intuition that more central nodes often play the role of being the *bridge* between two other nodes, e.g. they are more often on the shortest path that connects other pairs. The number of times a node is on the shortest path relative to the total number of shortest paths is knowns as the **betweeness centrality**. \n",
    "\n",
    "Another metric you may find in the literature is **eigenvector centrality**, which is centered around the idea that the *influence* of a node in the network increases if it influences other nodes with a high eigenvector centrality. This metric is closely related to metrics such as Pagerank. \n",
    "\n",
    "There are, however, many more notions of centrality. Which one is *best* depends on your research question and data used. You are recommended to explore the other centrality metrics available in the [networkx library](https://networkx.org/documentation/stable/reference/algorithms/centrality.html)."
   ]
  },
  {
   "cell_type": "markdown",
   "metadata": {},
   "source": [
    "### Task 6\n",
    "\n",
    "To each node, add the attributes: \n",
    "\n",
    "- betweenness centrality (`nx.betweenness_centrality(graph_object)`)\n",
    "- eigenvector centrality (`nx.eigenvector_centrality(graph_object)`)\n",
    "- closeness centrality (`nx.closeness_centrality(g_o)`)"
   ]
  },
  {
   "cell_type": "code",
   "execution_count": 56,
   "metadata": {},
   "outputs": [],
   "source": [
    "# For instance:\n",
    "\n",
    "## find the between centrality of each node\n",
    "between_centrality = nx.betweenness_centrality(sG)\n",
    "## add the attribute 'betweenness' to the respective node.\n",
    "nx.set_node_attributes(sG, between_centrality, 'betweenness')"
   ]
  },
  {
   "cell_type": "code",
   "execution_count": 72,
   "metadata": {},
   "outputs": [],
   "source": [
    "# Your code here\n"
   ]
  },
  {
   "cell_type": "markdown",
   "metadata": {},
   "source": [
    "### Task 7\n",
    "Write a function akin to show_graph_node_degree called `show_graph_node_centrality` taking an argument (among others) called 'centrality_measure'. \n",
    "\n",
    "Plot the graph by color-coding each node with the desired centrality measure. "
   ]
  },
  {
   "cell_type": "code",
   "execution_count": 73,
   "metadata": {},
   "outputs": [],
   "source": [
    "def show_graph_node_centrality(graph, centrality_measure, show_edge_attribute=True):\n",
    "    #Your Code Here\n",
    "    pass"
   ]
  },
  {
   "cell_type": "markdown",
   "metadata": {},
   "source": [
    "### Question\n",
    "What is the difference the presented centrality measures? Discuss the tradeoff between computational complexity and usefulness of each."
   ]
  },
  {
   "cell_type": "markdown",
   "metadata": {},
   "source": [
    "Your answer here."
   ]
  }
 ],
 "metadata": {
  "kernelspec": {
   "display_name": "SW",
   "language": "python",
   "name": "sw"
  },
  "language_info": {
   "codemirror_mode": {
    "name": "ipython",
    "version": 3
   },
   "file_extension": ".py",
   "mimetype": "text/x-python",
   "name": "python",
   "nbconvert_exporter": "python",
   "pygments_lexer": "ipython3",
   "version": "3.12.7"
  }
 },
 "nbformat": 4,
 "nbformat_minor": 4
}
